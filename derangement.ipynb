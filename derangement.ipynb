{
 "cells": [
  {
   "cell_type": "code",
   "execution_count": 33,
   "metadata": {},
   "outputs": [
    {
     "data": {
      "text/plain": [
       "(0, 0)"
      ]
     },
     "execution_count": 33,
     "metadata": {},
     "output_type": "execute_result"
    }
   ],
   "source": [
    "def permutations_aux(L, ind_from, ind_to):\n",
    "    if not ind_from:\n",
    "        return [L]\n",
    "    res = []\n",
    "    for i in ind_to:\n",
    "        L_new = L.copy()\n",
    "        ind_from_new = ind_from.copy()\n",
    "        L_new[ind_from_new.pop(0)] = i+1\n",
    "        ind_to_new = ind_to.copy()\n",
    "        ind_to_new.remove(i)\n",
    "        res += permutations_aux(L_new, ind_from_new, ind_to_new)\n",
    "    return res\n",
    "\n",
    "def permutations(n):\n",
    "    if not n:\n",
    "        return []\n",
    "    L = list(range(1, n+1))\n",
    "    indices = list(range(n))\n",
    "    return permutations_aux(L, indices, indices)\n",
    "\n",
    "def derangements(n):\n",
    "    P = permutations(n)\n",
    "    res = []\n",
    "    for s in P:\n",
    "        fixed = False\n",
    "        for i, x in enumerate(s):\n",
    "            if x==i+1:\n",
    "                fixed = True\n",
    "                break\n",
    "        if not fixed:\n",
    "            res.append(s)\n",
    "    return res\n",
    "\n",
    "def paire_tirages(n):\n",
    "    D = derangements(n)\n",
    "    nb_paires = 0\n",
    "    nb_compat = 0\n",
    "    for d1 in D:\n",
    "        for d2 in D:\n",
    "            nb_paires += 1\n",
    "            compat = True\n",
    "            for x,y in zip(d1, d2):\n",
    "                if x==y:\n",
    "                    compat = False\n",
    "                    break\n",
    "            if compat:\n",
    "                nb_compat += 1\n",
    "    return nb_paires, nb_compat\n",
    "\n",
    "\n",
    "paire_tirages(1)"
   ]
  },
  {
   "cell_type": "code",
   "execution_count": 35,
   "metadata": {},
   "outputs": [
    {
     "data": {
      "text/plain": [
       "0.5"
      ]
     },
     "execution_count": 35,
     "metadata": {},
     "output_type": "execute_result"
    }
   ],
   "source": [
    "def proba(n):\n",
    "    assert(n>1)\n",
    "    x, y = paire_tirages(n)\n",
    "    return y/x\n",
    "\n",
    "proba(3)"
   ]
  },
  {
   "cell_type": "code",
   "execution_count": 43,
   "metadata": {},
   "outputs": [
    {
     "data": {
      "text/plain": [
       "<matplotlib.collections.PathCollection at 0x7fee0299f1f0>"
      ]
     },
     "execution_count": 43,
     "metadata": {},
     "output_type": "execute_result"
    },
    {
     "data": {
      "image/png": "[encoded data removed]",
      "text/plain": [
       "<Figure size 432x288 with 1 Axes>"
      ]
     },
     "metadata": {
      "needs_background": "light"
     },
     "output_type": "display_data"
    }
   ],
   "source": [
    "import matplotlib.pyplot as plt\n",
    "import numpy as np\n",
    "\n",
    "N=7\n",
    "x = range(2, N+1)\n",
    "y = [proba(n) for n in x]\n",
    "plt.plot(x, [1/np.exp(1)]*len(x))\n",
    "plt.scatter(x,y)"
   ]
  }
 ],
 "metadata": {
  "language_info": {
   "name": "python"
  },
  "orig_nbformat": 4
 },
 "nbformat": 4,
 "nbformat_minor": 2
}
