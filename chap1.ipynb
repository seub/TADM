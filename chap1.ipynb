{
 "cells": [
  {
   "cell_type": "markdown",
   "metadata": {},
   "source": [
    "# Notebook for Chapter 1 in TADM"
   ]
  },
  {
   "cell_type": "markdown",
   "metadata": {},
   "source": [
    "## Insertion sort:"
   ]
  },
  {
   "cell_type": "code",
   "execution_count": 29,
   "metadata": {},
   "outputs": [],
   "source": [
    "def insertion_sort(L) :\n",
    "    c=0\n",
    "    out = L\n",
    "    for i in range(1, len(L)):\n",
    "        j=i\n",
    "        while (j>0) and (out[j] < out[j-1]):\n",
    "            out[j-1], out[j] = out[j], out[j-1]\n",
    "            c += 1\n",
    "            j -= 1\n",
    "    print(f\"Insertion sort: {c} comparisons\")\n",
    "    return out"
   ]
  },
  {
   "cell_type": "markdown",
   "metadata": {},
   "source": [
    "## Quicksort:"
   ]
  },
  {
   "cell_type": "code",
   "execution_count": 30,
   "metadata": {},
   "outputs": [],
   "source": [
    "def quick_sort(L):\n",
    "    def quick_sort_count(L):\n",
    "        N = len(L)\n",
    "        if len(L)>1:\n",
    "            N1 = (N+1)//2\n",
    "            N2 = N-N1\n",
    "            c1, L1 = quick_sort_count(L[:N1])\n",
    "            c2, L2 = quick_sort_count(L[N1:])\n",
    "            c = c1 + c2\n",
    "            i1, i2 = 0, 0\n",
    "            out = []\n",
    "            while i1+i2<N:\n",
    "                if i1==N1 or (i2<N2 and L1[i1]>L2[i2]):\n",
    "                    out.append(L2[i2])\n",
    "                    i2 += 1\n",
    "                else:\n",
    "                    out.append(L1[i1])\n",
    "                    i1 += 1\n",
    "                c += 1\n",
    "            return c, out    \n",
    "        else:\n",
    "            return 0, L\n",
    "    c, out = quick_sort_count(L)\n",
    "    print(f\"Quicksort: {c} comparisons (or less)\")\n",
    "    return out"
   ]
  },
  {
   "cell_type": "markdown",
   "metadata": {},
   "source": [
    "## Test:"
   ]
  },
  {
   "cell_type": "code",
   "execution_count": 31,
   "metadata": {},
   "outputs": [
    {
     "name": "stdout",
     "output_type": "stream",
     "text": [
      "Original list:\n",
      "[17, 4, 0, -5, 22, -8, 13, 13, -7, -5]\n",
      "Insertion sort: 28 comparisons\n",
      "[-8, -7, -5, -5, 0, 4, 13, 13, 17, 22]\n",
      "Quicksort: 34 comparisons (or less)\n",
      "[-8, -7, -5, -5, 0, 4, 13, 13, 17, 22]\n"
     ]
    }
   ],
   "source": [
    "L = [17, 4, 0, -5, 22, -8, 13, 13, -7, -5]\n",
    "print(\"Original list:\")\n",
    "print(L)\n",
    "print(insertion_sort(L))\n",
    "print(quick_sort(L))"
   ]
  }
 ],
 "metadata": {
  "interpreter": {
   "hash": "916dbcbb3f70747c44a77c7bcd40155683ae19c65e1c03b4aa3499c5328201f1"
  },
  "kernelspec": {
   "display_name": "Python 3.9.7 64-bit",
   "name": "python3"
  },
  "language_info": {
   "codemirror_mode": {
    "name": "ipython",
    "version": 3
   },
   "file_extension": ".py",
   "mimetype": "text/x-python",
   "name": "python",
   "nbconvert_exporter": "python",
   "pygments_lexer": "ipython3",
   "version": "3.9.7"
  },
  "orig_nbformat": 4
 },
 "nbformat": 4,
 "nbformat_minor": 2
}
