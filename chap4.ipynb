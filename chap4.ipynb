{
 "cells": [
  {
   "cell_type": "markdown",
   "metadata": {},
   "source": [
    "# Notebook for Chapter 4 in TADM"
   ]
  },
  {
   "cell_type": "markdown",
   "metadata": {},
   "source": [
    "## Insertion sort:"
   ]
  },
  {
   "cell_type": "code",
   "execution_count": 113,
   "metadata": {},
   "outputs": [],
   "source": [
    "def insertion_sort(L) :\n",
    "    c=0\n",
    "    out = [x for x in L]\n",
    "    for i in range(1, len(L)):\n",
    "        j=i\n",
    "        while (j>0) and (out[j] < out[j-1]):\n",
    "            out[j-1], out[j] = out[j], out[j-1]\n",
    "            c += 1\n",
    "            j -= 1\n",
    "    print(f\"Insertion sort: {c} comparisons\")\n",
    "    return out"
   ]
  },
  {
   "cell_type": "markdown",
   "metadata": {},
   "source": [
    "## Mergesort:"
   ]
  },
  {
   "cell_type": "code",
   "execution_count": 2,
   "metadata": {},
   "outputs": [],
   "source": [
    "def mergesort(L):\n",
    "    def mergesort_count(L):\n",
    "        N = len(L)\n",
    "        if len(L)>1:\n",
    "            N1 = (N+1)//2\n",
    "            N2 = N-N1\n",
    "            c1, L1 = mergesort_count(L[:N1])\n",
    "            c2, L2 = mergesort_count(L[N1:])\n",
    "            c = c1 + c2\n",
    "            i1, i2 = 0, 0\n",
    "            out = []\n",
    "            while i1+i2<N:\n",
    "                if i1==N1 or (i2<N2 and L1[i1]>L2[i2]):\n",
    "                    out.append(L2[i2])\n",
    "                    i2 += 1\n",
    "                else:\n",
    "                    out.append(L1[i1])\n",
    "                    i1 += 1\n",
    "                c += 1\n",
    "            return c, out    \n",
    "        else:\n",
    "            return 0, L\n",
    "    c, out = mergesort_count(L)\n",
    "    print(f\"Mergesort: {c} comparisons (or less)\")\n",
    "    return out"
   ]
  },
  {
   "cell_type": "markdown",
   "metadata": {},
   "source": [
    "## Heapsort"
   ]
  },
  {
   "cell_type": "code",
   "execution_count": 3,
   "metadata": {},
   "outputs": [
    {
     "name": "stdout",
     "output_type": "stream",
     "text": [
      "Heapsort: 26 comparisons (or less)\n",
      "[-13, -2, 1, 2, 3, 4, 7, 24]\n"
     ]
    }
   ],
   "source": [
    "def heap_insert(L, x):\n",
    "    c = 0\n",
    "    L.append(x)\n",
    "    i = len(L)-1\n",
    "    while i>0:\n",
    "        j = (i-1)//2\n",
    "        if L[j]<L[i]:\n",
    "            break\n",
    "        else:\n",
    "            L[j], L[i] = L[i], L[j]\n",
    "            i = j\n",
    "        c += 1\n",
    "    return c\n",
    "\n",
    "def heap_delete_root(L):\n",
    "    if len(L)==1:\n",
    "        return L.pop(), 0\n",
    "    c=0\n",
    "    old_root = L[0]\n",
    "    L[0] = L.pop()\n",
    "    n = len(L)\n",
    "    i=0\n",
    "    while i<n:\n",
    "        j1 = 2*i + 1\n",
    "        j2 = 2*i + 2\n",
    "        if j1 >= n:\n",
    "            break\n",
    "        elif j2 >= n:\n",
    "            if L[i]>L[j1]:\n",
    "                L[j1], L[i] = L[i], L[j1]\n",
    "                i = j1\n",
    "            else:\n",
    "                break\n",
    "            c+=1\n",
    "        else:\n",
    "            if L[i]<=L[j1] and L[i]<=L[j2]:\n",
    "                break\n",
    "            elif L[j1]>=L[j2]:\n",
    "                L[j2], L[i] = L[i], L[j2]\n",
    "                i = j2\n",
    "            else:\n",
    "                L[j1], L[i] = L[i], L[j1]\n",
    "                i = j1\n",
    "            c+=3\n",
    "    return old_root, c\n",
    "    \n",
    "def heap_sort(L):\n",
    "    heap = []\n",
    "    out = []\n",
    "    c=0\n",
    "    for x in L:\n",
    "        c += heap_insert(heap, x)\n",
    "    while heap:\n",
    "        mini, c1 = heap_delete_root(heap)\n",
    "        out.append(mini)\n",
    "        c += c1\n",
    "    print(f\"Heapsort: {c} comparisons (or less)\")\n",
    "    return out\n",
    "\n",
    "\n",
    "L = [1, -2, 7, 4, -13, 2, 24, 3]\n",
    "print(heap_sort(L))\n"
   ]
  },
  {
   "cell_type": "markdown",
   "metadata": {},
   "source": [
    "## Quicksort"
   ]
  },
  {
   "cell_type": "code",
   "execution_count": 130,
   "metadata": {},
   "outputs": [
    {
     "name": "stdout",
     "output_type": "stream",
     "text": [
      "Quicksort: 9 comparisons\n"
     ]
    },
    {
     "data": {
      "text/plain": [
       "[-7, -2, 2, 7, 8]"
      ]
     },
     "execution_count": 130,
     "metadata": {},
     "output_type": "execute_result"
    }
   ],
   "source": [
    "def quicksort(L):\n",
    "    c=0\n",
    "    def qs(L, l,r):\n",
    "        if r-l<=1:\n",
    "            return 0\n",
    "        else:\n",
    "            p = L[l]\n",
    "            lo, hi = [], []\n",
    "            for x in L[l+1:r]:\n",
    "                if x<p:\n",
    "                    lo.append(x)\n",
    "                else:\n",
    "                    hi.append(x)\n",
    "            m = len(lo)\n",
    "            L[l:r] = lo + [p] + hi\n",
    "            return (r-l) + qs(L, l, l+m) + qs(L, l+m+1, r)\n",
    "    out = [x for x in L]\n",
    "    c = qs(out, 0, len(out))\n",
    "    print(f\"Quicksort: {c} comparisons\")\n",
    "    return out\n",
    "\n",
    "n = 5\n",
    "M = 10\n",
    "L = random.sample(range(-M, M),n)\n",
    "L\n",
    "quicksort(L)\n",
    "        "
   ]
  },
  {
   "cell_type": "markdown",
   "metadata": {},
   "source": [
    "## Test:"
   ]
  },
  {
   "cell_type": "code",
   "execution_count": 147,
   "metadata": {},
   "outputs": [
    {
     "name": "stdout",
     "output_type": "stream",
     "text": [
      "Insertion sort: 1011930 comparisons\n",
      "Heapsort: 52705 comparisons (or less)\n",
      "Mergesort: 21952 comparisons (or less)\n",
      "Quicksort: 24525 comparisons\n"
     ]
    }
   ],
   "source": [
    "import random\n",
    "n = 2000\n",
    "M = 10000\n",
    "L = random.sample(range(-M, M),n)\n",
    "# print(\"Original list:\")\n",
    "insertion_sort(L)\n",
    "heap_sort(L)\n",
    "mergesort(L)\n",
    "quicksort(L)\n",
    "x=0"
   ]
  }
 ],
 "metadata": {
  "interpreter": {
   "hash": "916dbcbb3f70747c44a77c7bcd40155683ae19c65e1c03b4aa3499c5328201f1"
  },
  "kernelspec": {
   "display_name": "Python 3.9.7 64-bit",
   "name": "python3"
  },
  "language_info": {
   "codemirror_mode": {
    "name": "ipython",
    "version": 3
   },
   "file_extension": ".py",
   "mimetype": "text/x-python",
   "name": "python",
   "nbconvert_exporter": "python",
   "pygments_lexer": "ipython3",
   "version": "3.9.9"
  },
  "orig_nbformat": 4
 },
 "nbformat": 4,
 "nbformat_minor": 2
}
